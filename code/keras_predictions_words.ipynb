{
 "cells": [
  {
   "cell_type": "markdown",
   "metadata": {},
   "source": [
    "# Predicting words"
   ]
  },
  {
   "cell_type": "code",
   "execution_count": 1,
   "metadata": {},
   "outputs": [],
   "source": [
    "#import libraries\n",
    "import numpy as np\n",
    "from PIL import Image\n",
    "from numpy import loadtxt\n",
    "from keras.models import load_model\n",
    "import matplotlib.pyplot as plt"
   ]
  },
  {
   "cell_type": "code",
   "execution_count": 2,
   "metadata": {},
   "outputs": [],
   "source": [
    "# load model\n",
    "model = load_model('model.h5')"
   ]
  },
  {
   "cell_type": "code",
   "execution_count": 3,
   "metadata": {},
   "outputs": [],
   "source": [
    "class_names = ['A', 'B', 'C', 'D', 'E', 'F', 'G', 'H', 'I', 'J', 'K', 'L', 'M', 'N', 'O', 'P', 'Q', 'R', 'S', 'T', 'U', 'V', 'W', 'X', 'Y', 'Z']"
   ]
  },
  {
   "cell_type": "markdown",
   "metadata": {},
   "source": [
    "### Lets start!"
   ]
  },
  {
   "cell_type": "markdown",
   "metadata": {},
   "source": [
    "#### Images must:\n",
    "    - greyscale\n",
    "    - 1/255\n",
    "    - 28,28\n",
    "    - array\n",
    "    \n",
    "(white is yellow = 0 , black = 255)"
   ]
  },
  {
   "cell_type": "code",
   "execution_count": 17,
   "metadata": {},
   "outputs": [
    {
     "data": {
      "image/png": "[encoded data removed]",
      "text/plain": [
       "<PIL.Image.Image image mode=L size=308x112 at 0x7FEA08702A60>"
      ]
     },
     "execution_count": 17,
     "metadata": {},
     "output_type": "execute_result"
    }
   ],
   "source": [
    "image_original = Image.open(\"../dataset/test/words/love.png\").convert(\"L\") #Greyscale\n",
    "image_original"
   ]
  },
  {
   "cell_type": "code",
   "execution_count": 18,
   "metadata": {},
   "outputs": [
    {
     "data": {
      "text/plain": [
       "<matplotlib.image.AxesImage at 0x7fea086c7bb0>"
      ]
     },
     "execution_count": 18,
     "metadata": {},
     "output_type": "execute_result"
    },
    {
     "data": {
      "image/png": "[encoded data removed]",
      "text/plain": [
       "<Figure size 432x288 with 1 Axes>"
      ]
     },
     "metadata": {
      "needs_background": "light"
     },
     "output_type": "display_data"
    }
   ],
   "source": [
    "arr = np.array(image_original)\n",
    "arr =  np.where(arr<100,0,255) # In order to set the array values from 0 to 1 (black or white) \n",
    "plt.imshow(arr)"
   ]
  },
  {
   "cell_type": "code",
   "execution_count": 19,
   "metadata": {},
   "outputs": [],
   "source": [
    "#This funtions allows us to see the lines where the dots for the characters should be\n",
    "def liner(arr):\n",
    "    arr1= arr.copy()\n",
    "    values = arr1.prod(axis=0)\n",
    "    values = np.where(values!=0,0,255)\n",
    "    for i in range(arr1.shape[1]):\n",
    "        arr1[:,i] = values[i]\n",
    "    return arr1"
   ]
  },
  {
   "cell_type": "code",
   "execution_count": 20,
   "metadata": {},
   "outputs": [
    {
     "data": {
      "text/plain": [
       "array([[255, 255, 255, ..., 255, 255, 255],\n",
       "       [255, 255, 255, ..., 255, 255, 255],\n",
       "       [255, 255, 255, ..., 255, 255, 255],\n",
       "       ...,\n",
       "       [255, 255, 255, ..., 255, 255, 255],\n",
       "       [255, 255, 255, ..., 255, 255, 255],\n",
       "       [255, 255, 255, ..., 255, 255, 255]])"
      ]
     },
     "execution_count": 20,
     "metadata": {},
     "output_type": "execute_result"
    }
   ],
   "source": [
    "arr"
   ]
  },
  {
   "cell_type": "code",
   "execution_count": 23,
   "metadata": {},
   "outputs": [
    {
     "data": {
      "text/plain": [
       "<matplotlib.image.AxesImage at 0x7fea085b4df0>"
      ]
     },
     "execution_count": 23,
     "metadata": {},
     "output_type": "execute_result"
    },
    {
     "data": {
      "image/png": "[encoded data removed]",
      "text/plain": [
       "<Figure size 432x288 with 1 Axes>"
      ]
     },
     "metadata": {
      "needs_background": "light"
     },
     "output_type": "display_data"
    }
   ],
   "source": [
    "#Visual representation with a vertical line of where the dots that form the character are located\n",
    "plt.imshow(liner(arr))"
   ]
  },
  {
   "cell_type": "code",
   "execution_count": 24,
   "metadata": {},
   "outputs": [],
   "source": [
    "values = arr.prod(axis=0)\n",
    "values = np.where(values!=0,255,0)"
   ]
  },
  {
   "cell_type": "code",
   "execution_count": 25,
   "metadata": {},
   "outputs": [],
   "source": [
    "start = []\n",
    "end = []\n",
    "thick_col = []\n",
    "previous = values[0]\n",
    "\n",
    "for i,val in enumerate(values):\n",
    "    if val == 0 and previous!=0: # This indicates when a vert line starts\n",
    "        start.append(i)\n",
    "    elif val !=0 and previous == 0: #This indicated when a vert line finnishes\n",
    "        end.append(i)\n",
    "        thick_col.append(i-start[-1]) #By substracting these values we get the thickness of the column\n",
    "    previous = val\n",
    "    "
   ]
  },
  {
   "cell_type": "code",
   "execution_count": 26,
   "metadata": {},
   "outputs": [
    {
     "name": "stdout",
     "output_type": "stream",
     "text": [
      "Starting loc of v.lines: [7, 91, 123, 174, 207, 257, 290]\n"
     ]
    }
   ],
   "source": [
    "print('Starting loc of v.lines:', start)"
   ]
  },
  {
   "cell_type": "code",
   "execution_count": 27,
   "metadata": {},
   "outputs": [
    {
     "name": "stdout",
     "output_type": "stream",
     "text": [
      "Ending loc of v.lines: [24, 107, 140, 191, 223, 274, 307]\n"
     ]
    }
   ],
   "source": [
    "print('Ending loc of v.lines:', end)"
   ]
  },
  {
   "cell_type": "code",
   "execution_count": 28,
   "metadata": {},
   "outputs": [
    {
     "data": {
      "text/plain": [
       "[84, 32, 51, 33, 50, 33]"
      ]
     },
     "execution_count": 28,
     "metadata": {},
     "output_type": "execute_result"
    }
   ],
   "source": [
    "dist = [s-e for e,s in zip(start,start[1:])] #Distance between starting lines\n",
    "dist"
   ]
  },
  {
   "cell_type": "code",
   "execution_count": 29,
   "metadata": {},
   "outputs": [
    {
     "data": {
      "text/plain": [
       "47.166666666666664"
      ]
     },
     "execution_count": 29,
     "metadata": {},
     "output_type": "execute_result"
    }
   ],
   "source": [
    "dist_mean = sum(dist)/len(dist) #Mean distance between lines\n",
    "dist_mean"
   ]
  },
  {
   "cell_type": "code",
   "execution_count": 30,
   "metadata": {},
   "outputs": [
    {
     "data": {
      "text/plain": [
       "[17, 16, 17, 17, 16, 17, 17]"
      ]
     },
     "execution_count": 30,
     "metadata": {},
     "output_type": "execute_result"
    }
   ],
   "source": [
    "thick_col #Has been found whith the function used above"
   ]
  },
  {
   "cell_type": "code",
   "execution_count": 31,
   "metadata": {},
   "outputs": [
    {
     "data": {
      "text/plain": [
       "16.714285714285715"
      ]
     },
     "execution_count": 31,
     "metadata": {},
     "output_type": "execute_result"
    }
   ],
   "source": [
    "thick_col = sum(thick_col)/len(thick_col) #Thick col mean\n",
    "thick_col"
   ]
  },
  {
   "cell_type": "code",
   "execution_count": 42,
   "metadata": {},
   "outputs": [],
   "source": [
    "letter_start = []\n",
    "letter_end = []\n",
    "\n",
    "# If the dist between the 1st and 2nd col is less that the mean dist means its the end of a letter (2nd col)\n",
    "# else it means the letter has ended with just one col\n",
    "\n",
    "for left, right in zip(start,start[1:]):\n",
    "    if right - left < dist_mean:\n",
    "        letter_start.append(left)\n",
    "        letter_end.append(right) #segunda col mismo caracter\n",
    "\n",
    "for i in start:\n",
    "    if not((i in letter_start) or (i in letter_end)):\n",
    "        letter_start.append(i)\n",
    "        \n",
    "letter_start = sorted(letter_start)\n",
    "        "
   ]
  },
  {
   "cell_type": "code",
   "execution_count": 43,
   "metadata": {},
   "outputs": [
    {
     "data": {
      "text/plain": [
       "[7, 91, 174, 257]"
      ]
     },
     "execution_count": 43,
     "metadata": {},
     "output_type": "execute_result"
    }
   ],
   "source": [
    "letter_start #col left the cada caracter"
   ]
  },
  {
   "cell_type": "code",
   "execution_count": 44,
   "metadata": {},
   "outputs": [
    {
     "data": {
      "text/plain": [
       "(112, 308)"
      ]
     },
     "execution_count": 44,
     "metadata": {},
     "output_type": "execute_result"
    }
   ],
   "source": [
    "arr.shape"
   ]
  },
  {
   "cell_type": "code",
   "execution_count": 45,
   "metadata": {
    "scrolled": false
   },
   "outputs": [],
   "source": [
    "sep_letters = []\n",
    "\n",
    "arr = np.array(image_original)#le paso la imagen original porque mi modelo NO esta entrenado con 0 o 1, sino gray\n",
    "for st in letter_start:\n",
    "    left = int(st-thick_col/2)\n",
    "    left = left if left >= 0 else 0\n",
    "    right = int(st+dist_mean+thick_col)\n",
    "    right = right if right <= arr.shape[1] else arr.shape[1]\n",
    "    sep_letters.append(arr[:,left:right])"
   ]
  },
  {
   "cell_type": "code",
   "execution_count": 46,
   "metadata": {},
   "outputs": [],
   "source": [
    "prep_letters = []\n",
    "\n",
    "for letter in sep_letters:\n",
    "    img = Image.fromarray(letter.astype(np.uint8))\n",
    "    img = img.resize((28,28))\n",
    "    prep_letters.append(np.array(img).reshape(1,28,28,1)/255)"
   ]
  },
  {
   "cell_type": "code",
   "execution_count": 47,
   "metadata": {},
   "outputs": [
    {
     "data": {
      "text/plain": [
       "(1, 28, 28, 1)"
      ]
     },
     "execution_count": 47,
     "metadata": {},
     "output_type": "execute_result"
    }
   ],
   "source": [
    "prep_letters[0].shape"
   ]
  },
  {
   "cell_type": "code",
   "execution_count": 48,
   "metadata": {},
   "outputs": [],
   "source": [
    "prep_letters = np.concatenate(prep_letters, axis = 0)"
   ]
  },
  {
   "cell_type": "code",
   "execution_count": 49,
   "metadata": {},
   "outputs": [
    {
     "data": {
      "text/plain": [
       "(4, 28, 28, 1)"
      ]
     },
     "execution_count": 49,
     "metadata": {},
     "output_type": "execute_result"
    }
   ],
   "source": [
    "prep_letters.shape"
   ]
  },
  {
   "cell_type": "markdown",
   "metadata": {},
   "source": [
    "#### Predict the word"
   ]
  },
  {
   "cell_type": "code",
   "execution_count": 50,
   "metadata": {},
   "outputs": [
    {
     "name": "stdout",
     "output_type": "stream",
     "text": [
      "LOVE\n"
     ]
    }
   ],
   "source": [
    "y_pred_word = np.argmax(model.predict(prep_letters),axis=1)\n",
    "y_pred_word = [class_names[i] for i in y_pred_word]\n",
    "prediction = ''.join(y_pred_word)\n",
    "print(prediction)"
   ]
  },
  {
   "cell_type": "code",
   "execution_count": null,
   "metadata": {},
   "outputs": [],
   "source": []
  },
  {
   "cell_type": "code",
   "execution_count": null,
   "metadata": {},
   "outputs": [],
   "source": []
  }
 ],
 "metadata": {
  "kernelspec": {
   "display_name": "Python 3",
   "language": "python",
   "name": "python3"
  },
  "language_info": {
   "codemirror_mode": {
    "name": "ipython",
    "version": 3
   },
   "file_extension": ".py",
   "mimetype": "text/x-python",
   "name": "python",
   "nbconvert_exporter": "python",
   "pygments_lexer": "ipython3",
   "version": "3.8.5"
  }
 },
 "nbformat": 4,
 "nbformat_minor": 4
}
