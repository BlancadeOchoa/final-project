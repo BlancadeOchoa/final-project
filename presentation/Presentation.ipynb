{
 "cells": [
  {
   "cell_type": "code",
   "execution_count": 11,
   "metadata": {},
   "outputs": [],
   "source": [
    "#Import libraries\n",
    "import numpy as np\n",
    "from PIL import Image\n",
    "from numpy import loadtxt\n",
    "from keras.models import load_model\n",
    "import matplotlib.pyplot as plt\n",
    "\n",
    "#Load the model\n",
    "model = load_model('../code/model.h5')"
   ]
  },
  {
   "cell_type": "code",
   "execution_count": 12,
   "metadata": {},
   "outputs": [
    {
     "data": {
      "image/png": "[encoded data removed]",
      "text/plain": [
       "<PIL.Image.Image image mode=L size=431x36 at 0x7FC0F82E8AC0>"
      ]
     },
     "execution_count": 12,
     "metadata": {},
     "output_type": "execute_result"
    }
   ],
   "source": [
    "image_original = Image.open(\"img/guess.png\").convert(\"L\") #Greyscale\n",
    "image_original"
   ]
  },
  {
   "cell_type": "code",
   "execution_count": 10,
   "metadata": {},
   "outputs": [
    {
     "name": "stdout",
     "output_type": "stream",
     "text": [
      "FREEBEERFORYOU\n"
     ]
    }
   ],
   "source": [
    "class_names = ['A', 'B', 'C', 'D', 'E', 'F', 'G', 'H', 'I', 'J', 'K', 'L', 'M', 'N', 'O', 'P', 'Q', 'R', 'S', 'T', 'U', 'V', 'W', 'X', 'Y', 'Z']\n",
    "\n",
    "arr = np.array(image_original)\n",
    "arr =  np.where(arr<100,0,255) \n",
    "\n",
    "values = arr.prod(axis=0)\n",
    "values = np.where(values!=0,255,0)\n",
    "\n",
    "\n",
    "### ------- CALCULATE COLMN THICKNESS: by calculating where the same line starts and ends ------\n",
    "\n",
    "start = []\n",
    "end = []\n",
    "thick_col = []\n",
    "previous = values[0]\n",
    "\n",
    "for i,val in enumerate(values):\n",
    "    if val == 0 and previous!=0: # This indicates when a vert line starts\n",
    "        start.append(i)\n",
    "    elif val !=0 and previous == 0: #This indicated when a vert line finnishes\n",
    "        end.append(i)\n",
    "        thick_col.append(i-start[-1]) #By substracting these values we get the thickness of the column\n",
    "    previous = val\n",
    "    \n",
    "    \n",
    "dist = [s-e for e,s in zip(start,start[1:])] #Distance between starting lines\n",
    "dist_mean = sum(dist)/len(dist) #Mean distance between lines\n",
    "\n",
    "thick_col = sum(thick_col)/len(thick_col) \n",
    "\n",
    "\n",
    "### -------- WHERE DOES A CHARACTER START: if distance between start of col1 and col2 is < than meandist is same character\n",
    "\n",
    "letter_start = []\n",
    "letter_end = []\n",
    "\n",
    "for left, right in zip(start,start[1:]):\n",
    "    if right - left < dist_mean:\n",
    "        letter_start.append(left)\n",
    "        letter_end.append(right) #segunda col mismo caracter\n",
    "\n",
    "for i in start:\n",
    "    if not((i in letter_start) or (i in letter_end)):\n",
    "        letter_start.append(i)\n",
    "        \n",
    "letter_start = sorted(letter_start)\n",
    "\n",
    "### -------- DIVIDING INTO LETTERS -----------\n",
    "\n",
    "sep_letters = []\n",
    "arr = np.array(image_original) #le paso la imagen original porque mi modelo NO esta entrenado con 0 o 1, sino gray\n",
    "for st in letter_start:\n",
    "    left = int(st-thick_col/2)\n",
    "    left = left if left >= 0 else 0\n",
    "    right = int(st+dist_mean+thick_col)\n",
    "    right = right if right <= arr.shape[1] else arr.shape[1]\n",
    "    sep_letters.append(arr[:,left:right])\n",
    "    \n",
    "### ------- PREPARING THE LETTERS FOR THE MODEL --------\n",
    "\n",
    "prep_letters = []\n",
    "\n",
    "for letter in sep_letters:\n",
    "    img = Image.fromarray(letter.astype(np.uint8))\n",
    "    img = img.resize((28,28))\n",
    "    prep_letters.append(np.array(img).reshape(1,28,28,1)/255)\n",
    "    \n",
    "prep_letters = np.concatenate(prep_letters, axis = 0)\n",
    "\n",
    "### -------- PREDICT WORD ------------\n",
    "\n",
    "y_pred_word = np.argmax(model.predict(prep_letters),axis=1)\n",
    "y_pred_word = [class_names[i] for i in y_pred_word]\n",
    "prediction = ''.join(y_pred_word)\n",
    "print(prediction)\n"
   ]
  },
  {
   "cell_type": "code",
   "execution_count": null,
   "metadata": {},
   "outputs": [],
   "source": []
  },
  {
   "cell_type": "code",
   "execution_count": null,
   "metadata": {},
   "outputs": [],
   "source": []
  }
 ],
 "metadata": {
  "kernelspec": {
   "display_name": "Python 3",
   "language": "python",
   "name": "python3"
  },
  "language_info": {
   "codemirror_mode": {
    "name": "ipython",
    "version": 3
   },
   "file_extension": ".py",
   "mimetype": "text/x-python",
   "name": "python",
   "nbconvert_exporter": "python",
   "pygments_lexer": "ipython3",
   "version": "3.8.5"
  }
 },
 "nbformat": 4,
 "nbformat_minor": 4
}
